{
 "cells": [
  {
   "cell_type": "markdown",
   "metadata": {},
   "source": [
    "### Boxplot"
   ]
  },
  {
   "cell_type": "code",
   "execution_count": 1,
   "metadata": {},
   "outputs": [],
   "source": [
    "from dataclasses import dataclass\n",
    "from itertools import chain\n",
    "\n",
    "import matplotlib.pyplot as plt\n",
    "import seaborn as sns\n",
    "sns.set()"
   ]
  },
  {
   "cell_type": "code",
   "execution_count": 2,
   "metadata": {},
   "outputs": [],
   "source": [
    "@dataclass\n",
    "class Category:\n",
    "    name: str\n",
    "    values: list[float]\n",
    "\n",
    "@dataclass        \n",
    "class Boxplot:\n",
    "    title: str\n",
    "    categories: list[Category]\n",
    "        \n",
    "    def plot(self, figsize=(8, 5), label_size=14, title_size=20):\n",
    "        plt.figure(figsize=figsize)\n",
    "        sns.boxplot(\n",
    "            y=[val for c in self.categories for val in [c.name] * len(c.values)],\n",
    "            x=[val for c in self.categories for val in c.values],\n",
    "            order=[c.name for c in self.categories],\n",
    "            orient='h'\n",
    "        )\n",
    "        plt.tick_params(labelsize=label_size)\n",
    "        plt.title(self.title, fontsize=title_size)\n",
    "        plt.show()"
   ]
  },
  {
   "cell_type": "code",
   "execution_count": 3,
   "metadata": {},
   "outputs": [],
   "source": [
    "boxplot = Boxplot(\n",
    "    'Score', [\n",
    "        Category(\n",
    "            'Model-1',\n",
    "            [    \n",
    "                0.80,\n",
    "                0.82,\n",
    "                0.90,\n",
    "                0.85,\n",
    "                0.79,\n",
    "                0.88\n",
    "            ]\n",
    "        ),\n",
    "\n",
    "        Category(\n",
    "            'Model-2',\n",
    "            [    \n",
    "                0.89,\n",
    "                0.84,\n",
    "                0.81,\n",
    "                0.75,\n",
    "                0.91,\n",
    "                0.85,\n",
    "            ]\n",
    "        ),\n",
    "    ]\n",
    ")"
   ]
  },
  {
   "cell_type": "code",
   "execution_count": 4,
   "metadata": {},
   "outputs": [
    {
     "data": {
      "image/png": "[encoded data removed]",
      "text/plain": [
       "<Figure size 576x360 with 1 Axes>"
      ]
     },
     "metadata": {},
     "output_type": "display_data"
    }
   ],
   "source": [
    "boxplot.plot()"
   ]
  },
  {
   "cell_type": "markdown",
   "metadata": {},
   "source": [
    "### ..."
   ]
  },
  {
   "cell_type": "code",
   "execution_count": 5,
   "metadata": {},
   "outputs": [],
   "source": [
    "import matplotlib.pyplot as plt"
   ]
  },
  {
   "cell_type": "code",
   "execution_count": 6,
   "metadata": {},
   "outputs": [],
   "source": [
    "def plot_one_bar(names, scores, \n",
    "                 xlabel=None, ylabel=None, title=None,\n",
    "                 figsize=(5, 5), rotation=0, ylim=None, order=None):\n",
    "    scores = np.array(scores)\n",
    "    names = np.array(names)\n",
    "    if order == 'inc':    \n",
    "        perm = np.argsort(scores)\n",
    "    elif order == 'dec':\n",
    "        perm = np.argsort(scores)[::-1]\n",
    "    else:\n",
    "        perm = np.array(range(len(names)))\n",
    "        \n",
    "    plt.figure(figsize=figsize)\n",
    "    plt.bar(names[perm], scores[perm])\n",
    "    \n",
    "    plt.xticks(rotation=rotation) \n",
    "    if xlabel is not None:\n",
    "        plt.xlabel(xlabel)\n",
    "    \n",
    "    if ylabel is not None:\n",
    "        plt.ylabel(ylabel)\n",
    "    \n",
    "    if ylim is not None:\n",
    "        plt.ylim((0.75, 0.9))\n",
    "        \n",
    "    if title is not None:\n",
    "        plt.title(title)\n",
    "    plt.show()"
   ]
  },
  {
   "cell_type": "code",
   "execution_count": 7,
   "metadata": {},
   "outputs": [],
   "source": [
    "markers = ('.', 'v', 'x', 'p', 's')\n",
    "\n",
    "def get_cmap(n, name='gist_rainbow'):\n",
    "    return plt.cm.get_cmap(name, n)\n",
    "\n",
    "def grouped_scatter_plot(scatter_x, scatter_y, group, title=None, figsize=(6, 6), ind2label=None):\n",
    "    if ind2label is None:\n",
    "        ind2label = list(map(str, sorted(set(group))))\n",
    "    \n",
    "    fig = plt.figure()\n",
    "    ax = plt.subplot()\n",
    "    fig.set_figheight(figsize[0])\n",
    "    fig.set_figwidth(figsize[1])\n",
    "    \n",
    "    cmap = get_cmap(len(set(group)))\n",
    "\n",
    "    for g in sorted(set(group)):\n",
    "        ix = np.where(group == g)\n",
    "        ax.scatter(scatter_x[ix],\n",
    "                   scatter_y[ix],\n",
    "                   c=[cmap(int(g))],\n",
    "                   marker=markers[g % len(markers)],\n",
    "                   label=ind2label[g])\n",
    "    ax.legend(bbox_to_anchor=(1, 0.5), loc='center left')\n",
    "    \n",
    "    if title is not None:\n",
    "        ax.set_title(title)\n",
    "        \n",
    "    plt.show()"
   ]
  }
 ],
 "metadata": {
  "kernelspec": {
   "display_name": "Python 3 (ipykernel)",
   "language": "python",
   "name": "python3"
  },
  "language_info": {
   "codemirror_mode": {
    "name": "ipython",
    "version": 3
   },
   "file_extension": ".py",
   "mimetype": "text/x-python",
   "name": "python",
   "nbconvert_exporter": "python",
   "pygments_lexer": "ipython3",
   "version": "3.9.7"
  }
 },
 "nbformat": 4,
 "nbformat_minor": 2
}
