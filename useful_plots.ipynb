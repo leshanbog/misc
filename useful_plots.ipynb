{
 "cells": [
  {
   "cell_type": "code",
   "execution_count": 1,
   "metadata": {},
   "outputs": [],
   "source": [
    "import matplotlib.pyplot as plt"
   ]
  },
  {
   "cell_type": "code",
   "execution_count": 2,
   "metadata": {},
   "outputs": [],
   "source": [
    "def plot_one_bar(names, scores, \n",
    "                 xlabel=None, ylabel=None, title=None,\n",
    "                 figsize=(5, 5), rotation=0, ylim=None, order=None):\n",
    "    scores = np.array(scores)\n",
    "    names = np.array(names)\n",
    "    if order == 'inc':    \n",
    "        perm = np.argsort(scores)\n",
    "    elif order == 'dec':\n",
    "        perm = np.argsort(scores)[::-1]\n",
    "    else:\n",
    "        perm = np.array(range(len(names)))\n",
    "        \n",
    "    plt.figure(figsize=figsize)\n",
    "    plt.bar(names[perm], scores[perm])\n",
    "    \n",
    "    plt.xticks(rotation=rotation) \n",
    "    if xlabel is not None:\n",
    "        plt.xlabel(xlabel)\n",
    "    \n",
    "    if ylabel is not None:\n",
    "        plt.ylabel(ylabel)\n",
    "    \n",
    "    if ylim is not None:\n",
    "        plt.ylim((0.75, 0.9))\n",
    "        \n",
    "    if title is not None:\n",
    "        plt.title()\n",
    "    plt.show()"
   ]
  },
  {
   "cell_type": "code",
   "execution_count": null,
   "metadata": {},
   "outputs": [],
   "source": []
  }
 ],
 "metadata": {
  "kernelspec": {
   "display_name": "Python 3",
   "language": "python",
   "name": "python3"
  },
  "language_info": {
   "codemirror_mode": {
    "name": "ipython",
    "version": 3
   },
   "file_extension": ".py",
   "mimetype": "text/x-python",
   "name": "python",
   "nbconvert_exporter": "python",
   "pygments_lexer": "ipython3",
   "version": "3.7.3"
  }
 },
 "nbformat": 4,
 "nbformat_minor": 2
}
