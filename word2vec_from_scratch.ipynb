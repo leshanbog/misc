{
 "cells": [
  {
   "cell_type": "code",
   "execution_count": 1,
   "metadata": {},
   "outputs": [],
   "source": [
    "import numpy as np\n",
    "import re\n",
    "from sklearn.datasets import fetch_20newsgroups\n",
    "import nltk"
   ]
  },
  {
   "cell_type": "code",
   "execution_count": 2,
   "metadata": {},
   "outputs": [],
   "source": [
    "sentences = fetch_20newsgroups(subset='train').data\n",
    "\n",
    "regex = re.compile('[^a-zA-Z ]')\n",
    "sentences = [regex.sub('', ' '.join(nltk.word_tokenize(sent.strip().lower()))).split() \n",
    "             for sent in sentences] # list of list of words"
   ]
  },
  {
   "cell_type": "code",
   "execution_count": 3,
   "metadata": {},
   "outputs": [],
   "source": [
    "class Vocab:\n",
    "    def __init__(self):\n",
    "        self.word2index = {}\n",
    "        self.index2word = {}\n",
    "    \n",
    "    def index(self, sentences):\n",
    "        for sent in sentences:\n",
    "            for word in sent:\n",
    "                if word not in self.word2index:\n",
    "                    self.word2index[word] = len(self.word2index)\n",
    "                    self.index2word[self.word2index[word]] = word\n",
    "                    \n",
    "    def get_size(self):\n",
    "        return len(self.word2index)"
   ]
  },
  {
   "cell_type": "code",
   "execution_count": 4,
   "metadata": {},
   "outputs": [
    {
     "data": {
      "text/plain": [
       "121328"
      ]
     },
     "execution_count": 4,
     "metadata": {},
     "output_type": "execute_result"
    }
   ],
   "source": [
    "vocab = Vocab()\n",
    "vocab.index(sentences)\n",
    "vocab.get_size()"
   ]
  },
  {
   "cell_type": "code",
   "execution_count": 5,
   "metadata": {},
   "outputs": [],
   "source": [
    "# drop not freq words?"
   ]
  },
  {
   "cell_type": "code",
   "execution_count": 59,
   "metadata": {},
   "outputs": [],
   "source": [
    "class Word2Vec:\n",
    "    def __init__(self):\n",
    "        self.sent_i = 0\n",
    "        self.word_i = 0\n",
    "        self.window_i = 0\n",
    "    \n",
    "    def __initialize(self, window_size, vocab, embed_size):\n",
    "        if self.window_i == 0:\n",
    "            print('Initializing weights')\n",
    "            \n",
    "            self.vocab = vocab\n",
    "            self.center_vectors = np.random.randn(vocab.get_size(), embed_size) * 0.03\n",
    "            self.context_vectors = np.random.randn(vocab.get_size(), embed_size) * 0.03\n",
    "            \n",
    "            self.center_vectors = self.center_vectors / np.linalg.norm(self.center_vectors, axis=1).reshape(-1, 1)\n",
    "            self.context_vectors = self.context_vectors / np.linalg.norm(self.context_vectors, axis=1).reshape(-1, 1)\n",
    "            \n",
    "            self.window_i = -window_size\n",
    "            self.word_i = window_size\n",
    "        \n",
    "    def __indexes_update(self, window_size, sent_size, corpus_size):\n",
    "            self.window_i += 1\n",
    "            if self.window_i == 0:\n",
    "                self.window_i = 1\n",
    "            \n",
    "            if self.window_i == window_size + 1:\n",
    "                self.window_i = - window_size\n",
    "                \n",
    "                self.word_i += 1\n",
    "                if self.word_i + window_size == sent_size:\n",
    "                    self.word_i = window_size\n",
    "                    self.sent_i += 1\n",
    "                    if self.sent_i == corpus_size:\n",
    "                        self.sent_i = 0\n",
    "    \n",
    "    def train(self, vocab, sentences,\n",
    "              embed_size=64, window_size=3,\n",
    "              learning_rate=0.03, iters=10000, print_every=500):\n",
    "        self.__initialize(window_size, vocab, embed_size)\n",
    "        \n",
    "        i = 0\n",
    "        while i < iters:\n",
    "            center_id = vocab.word2index[sentences[self.sent_i][self.word_i]]\n",
    "            context_id = vocab.word2index[sentences[self.sent_i][self.word_i + self.window_i]]\n",
    "            \n",
    "            all_probs = self.context_vectors.dot(self.center_vectors[center_id].reshape(-1, 1))\n",
    "            \n",
    "            cur_prob = all_probs[context_id]\n",
    "            all_probs = np.exp(all_probs)\n",
    "            all_probs_sum = all_probs.sum()\n",
    "        \n",
    "            # gradient calculation\n",
    "            dLdv = -self.context_vectors[context_id] + np.sum(self.context_vectors, axis=0) / all_probs_sum\n",
    "            dLdu = -self.center_vectors[center_id] / all_probs_sum\n",
    "    \n",
    "            # gradient step\n",
    "            prev_center = self.center_vectors[center_id].copy()\n",
    "            self.center_vectors[center_id] -= learning_rate * dLdv / len(sentences)\n",
    "            self.context_vectors -= learning_rate * dLdu  / len(sentences)\n",
    "            self.context_vectors[context_id] += prev_center\n",
    "            \n",
    "            self.__indexes_update(window_size, len(sentences[self.sent_i]), len(sentences))\n",
    "              \n",
    "            if i % print_every == 0:\n",
    "                loss = -cur_prob + np.log(all_probs_sum)\n",
    "                print(f'Iteration {i} loss = {round(loss[0], 2)}')\n",
    "                self.center_vectors = self.center_vectors / np.linalg.norm(self.center_vectors, axis=1).reshape(-1, 1)\n",
    "                self.context_vectors = self.context_vectors / np.linalg.norm(self.context_vectors, axis=1).reshape(-1, 1)\n",
    "            i += 1\n",
    "            \n",
    "        self.center_vectors = self.center_vectors / np.linalg.norm(self.center_vectors, axis=1).reshape(-1, 1)\n",
    "        self.context_vectors = self.context_vectors / np.linalg.norm(self.context_vectors, axis=1).reshape(-1, 1)\n",
    "            \n",
    "        \n",
    "    def get_vector(self, word):\n",
    "        return self.context_vectors[self.vocab.word2index[word]]\n",
    "    \n",
    "    def most_closest(self, word, n=10):\n",
    "        base = self.get_vector(word).reshape(-1, 1)\n",
    "        \n",
    "        distances = self.context_vectors.dot(base).flatten()\n",
    "        \n",
    "        most_closest_indexes = distances.argsort()[-n:][::-1]\n",
    "        \n",
    "        return [(self.vocab.index2word[ind], distances[ind]) for ind in most_closest_indexes]\n",
    "        "
   ]
  },
  {
   "cell_type": "code",
   "execution_count": 60,
   "metadata": {},
   "outputs": [
    {
     "name": "stdout",
     "output_type": "stream",
     "text": [
      "Initializing weights\n",
      "Iteration 0 loss = 11.82\n",
      "Iteration 4000 loss = 10.3\n",
      "Iteration 8000 loss = 11.74\n",
      "Iteration 12000 loss = 11.79\n",
      "Iteration 16000 loss = 11.54\n",
      "Iteration 20000 loss = 7.2\n",
      "Iteration 24000 loss = 9.78\n",
      "Iteration 28000 loss = 11.99\n",
      "Iteration 32000 loss = 10.35\n",
      "Iteration 36000 loss = 11.98\n",
      "Iteration 40000 loss = 12.01\n",
      "Iteration 44000 loss = 11.52\n",
      "Iteration 48000 loss = 11.26\n",
      "Iteration 52000 loss = 11.62\n",
      "Iteration 56000 loss = 12.26\n",
      "Iteration 60000 loss = 10.07\n",
      "Iteration 64000 loss = 16.42\n",
      "Iteration 68000 loss = 11.47\n",
      "Iteration 72000 loss = 11.34\n",
      "Iteration 76000 loss = 11.94\n",
      "Iteration 80000 loss = 10.8\n",
      "Iteration 84000 loss = 11.81\n",
      "Iteration 88000 loss = 11.69\n",
      "Iteration 92000 loss = 13.42\n",
      "Iteration 96000 loss = 10.95\n",
      "Iteration 100000 loss = 0.0\n",
      "Iteration 104000 loss = 11.59\n",
      "Iteration 108000 loss = 11.74\n",
      "Iteration 112000 loss = 11.79\n",
      "Iteration 116000 loss = 18.38\n",
      "Iteration 120000 loss = 11.68\n",
      "Iteration 124000 loss = 11.17\n",
      "Iteration 128000 loss = 11.13\n",
      "Iteration 132000 loss = 12.24\n",
      "Iteration 136000 loss = 11.66\n",
      "Iteration 140000 loss = 12.25\n",
      "Iteration 144000 loss = 11.19\n",
      "Iteration 148000 loss = 12.19\n",
      "Iteration 152000 loss = 11.42\n",
      "Iteration 156000 loss = 16.5\n",
      "Iteration 160000 loss = 11.55\n"
     ]
    },
    {
     "ename": "KeyboardInterrupt",
     "evalue": "",
     "output_type": "error",
     "traceback": [
      "\u001b[1;31m---------------------------------------------------------------------------\u001b[0m",
      "\u001b[1;31mKeyboardInterrupt\u001b[0m                         Traceback (most recent call last)",
      "\u001b[1;32m<ipython-input-60-8dd7c89a68bd>\u001b[0m in \u001b[0;36m<module>\u001b[1;34m\u001b[0m\n\u001b[0;32m      1\u001b[0m \u001b[0mwv\u001b[0m \u001b[1;33m=\u001b[0m \u001b[0mWord2Vec\u001b[0m\u001b[1;33m(\u001b[0m\u001b[1;33m)\u001b[0m\u001b[1;33m\u001b[0m\u001b[1;33m\u001b[0m\u001b[0m\n\u001b[1;32m----> 2\u001b[1;33m \u001b[0mwv\u001b[0m\u001b[1;33m.\u001b[0m\u001b[0mtrain\u001b[0m\u001b[1;33m(\u001b[0m\u001b[0mvocab\u001b[0m\u001b[1;33m,\u001b[0m \u001b[0msentences\u001b[0m\u001b[1;33m,\u001b[0m \u001b[0miters\u001b[0m\u001b[1;33m=\u001b[0m\u001b[1;36m350000\u001b[0m\u001b[1;33m,\u001b[0m \u001b[0mprint_every\u001b[0m\u001b[1;33m=\u001b[0m\u001b[1;36m4000\u001b[0m\u001b[1;33m)\u001b[0m\u001b[1;33m\u001b[0m\u001b[1;33m\u001b[0m\u001b[0m\n\u001b[0m",
      "\u001b[1;32m<ipython-input-59-19d15c02e33f>\u001b[0m in \u001b[0;36mtrain\u001b[1;34m(self, vocab, sentences, embed_size, window_size, learning_rate, iters, print_every)\u001b[0m\n\u001b[0;32m     57\u001b[0m             \u001b[0mprev_center\u001b[0m \u001b[1;33m=\u001b[0m \u001b[0mself\u001b[0m\u001b[1;33m.\u001b[0m\u001b[0mcenter_vectors\u001b[0m\u001b[1;33m[\u001b[0m\u001b[0mcenter_id\u001b[0m\u001b[1;33m]\u001b[0m\u001b[1;33m.\u001b[0m\u001b[0mcopy\u001b[0m\u001b[1;33m(\u001b[0m\u001b[1;33m)\u001b[0m\u001b[1;33m\u001b[0m\u001b[1;33m\u001b[0m\u001b[0m\n\u001b[0;32m     58\u001b[0m             \u001b[0mself\u001b[0m\u001b[1;33m.\u001b[0m\u001b[0mcenter_vectors\u001b[0m\u001b[1;33m[\u001b[0m\u001b[0mcenter_id\u001b[0m\u001b[1;33m]\u001b[0m \u001b[1;33m-=\u001b[0m \u001b[0mlearning_rate\u001b[0m \u001b[1;33m*\u001b[0m \u001b[0mdLdv\u001b[0m \u001b[1;33m/\u001b[0m \u001b[0mlen\u001b[0m\u001b[1;33m(\u001b[0m\u001b[0msentences\u001b[0m\u001b[1;33m)\u001b[0m\u001b[1;33m\u001b[0m\u001b[1;33m\u001b[0m\u001b[0m\n\u001b[1;32m---> 59\u001b[1;33m             \u001b[0mself\u001b[0m\u001b[1;33m.\u001b[0m\u001b[0mcontext_vectors\u001b[0m \u001b[1;33m-=\u001b[0m \u001b[0mlearning_rate\u001b[0m \u001b[1;33m*\u001b[0m \u001b[0mdLdu\u001b[0m  \u001b[1;33m/\u001b[0m \u001b[0mlen\u001b[0m\u001b[1;33m(\u001b[0m\u001b[0msentences\u001b[0m\u001b[1;33m)\u001b[0m\u001b[1;33m\u001b[0m\u001b[1;33m\u001b[0m\u001b[0m\n\u001b[0m\u001b[0;32m     60\u001b[0m             \u001b[0mself\u001b[0m\u001b[1;33m.\u001b[0m\u001b[0mcontext_vectors\u001b[0m\u001b[1;33m[\u001b[0m\u001b[0mcontext_id\u001b[0m\u001b[1;33m]\u001b[0m \u001b[1;33m+=\u001b[0m \u001b[0mprev_center\u001b[0m\u001b[1;33m\u001b[0m\u001b[1;33m\u001b[0m\u001b[0m\n\u001b[0;32m     61\u001b[0m \u001b[1;33m\u001b[0m\u001b[0m\n",
      "\u001b[1;31mKeyboardInterrupt\u001b[0m: "
     ]
    }
   ],
   "source": [
    "wv = Word2Vec()\n",
    "wv.train(vocab, sentences, iters=350000, print_every=4000)"
   ]
  },
  {
   "cell_type": "code",
   "execution_count": 66,
   "metadata": {},
   "outputs": [
    {
     "name": "stdout",
     "output_type": "stream",
     "text": [
      "Iteration 0 loss = 11.24\n",
      "Iteration 4000 loss = 11.52\n",
      "Iteration 8000 loss = 12.12\n",
      "Iteration 12000 loss = 15.04\n",
      "Iteration 16000 loss = 11.68\n",
      "Iteration 20000 loss = 1.79\n",
      "Iteration 24000 loss = 12.06\n",
      "Iteration 28000 loss = 11.79\n",
      "Iteration 32000 loss = 11.51\n",
      "Iteration 36000 loss = 11.76\n",
      "Iteration 40000 loss = 11.5\n",
      "Iteration 44000 loss = 11.86\n",
      "Iteration 48000 loss = 9.95\n"
     ]
    },
    {
     "name": "stderr",
     "output_type": "stream",
     "text": [
      "C:\\Users\\leshanbog\\Anaconda3\\lib\\site-packages\\ipykernel_launcher.py:49: RuntimeWarning: overflow encountered in exp\n"
     ]
    },
    {
     "name": "stdout",
     "output_type": "stream",
     "text": [
      "Iteration 52000 loss = inf\n",
      "Iteration 56000 loss = inf\n",
      "Iteration 60000 loss = inf\n",
      "Iteration 64000 loss = inf\n",
      "Iteration 68000 loss = 31.5\n",
      "Iteration 72000 loss = 9.17\n",
      "Iteration 76000 loss = inf\n",
      "Iteration 80000 loss = inf\n"
     ]
    },
    {
     "ename": "KeyboardInterrupt",
     "evalue": "",
     "output_type": "error",
     "traceback": [
      "\u001b[1;31m---------------------------------------------------------------------------\u001b[0m",
      "\u001b[1;31mKeyboardInterrupt\u001b[0m                         Traceback (most recent call last)",
      "\u001b[1;32m<ipython-input-66-947665cb8239>\u001b[0m in \u001b[0;36m<module>\u001b[1;34m\u001b[0m\n\u001b[1;32m----> 1\u001b[1;33m \u001b[0mwv\u001b[0m\u001b[1;33m.\u001b[0m\u001b[0mtrain\u001b[0m\u001b[1;33m(\u001b[0m\u001b[0mvocab\u001b[0m\u001b[1;33m,\u001b[0m \u001b[0msentences\u001b[0m\u001b[1;33m,\u001b[0m \u001b[0miters\u001b[0m\u001b[1;33m=\u001b[0m\u001b[1;36m350000\u001b[0m\u001b[1;33m,\u001b[0m \u001b[0mprint_every\u001b[0m\u001b[1;33m=\u001b[0m\u001b[1;36m4000\u001b[0m\u001b[1;33m)\u001b[0m\u001b[1;33m\u001b[0m\u001b[1;33m\u001b[0m\u001b[0m\n\u001b[0m",
      "\u001b[1;32m<ipython-input-59-19d15c02e33f>\u001b[0m in \u001b[0;36mtrain\u001b[1;34m(self, vocab, sentences, embed_size, window_size, learning_rate, iters, print_every)\u001b[0m\n\u001b[0;32m     57\u001b[0m             \u001b[0mprev_center\u001b[0m \u001b[1;33m=\u001b[0m \u001b[0mself\u001b[0m\u001b[1;33m.\u001b[0m\u001b[0mcenter_vectors\u001b[0m\u001b[1;33m[\u001b[0m\u001b[0mcenter_id\u001b[0m\u001b[1;33m]\u001b[0m\u001b[1;33m.\u001b[0m\u001b[0mcopy\u001b[0m\u001b[1;33m(\u001b[0m\u001b[1;33m)\u001b[0m\u001b[1;33m\u001b[0m\u001b[1;33m\u001b[0m\u001b[0m\n\u001b[0;32m     58\u001b[0m             \u001b[0mself\u001b[0m\u001b[1;33m.\u001b[0m\u001b[0mcenter_vectors\u001b[0m\u001b[1;33m[\u001b[0m\u001b[0mcenter_id\u001b[0m\u001b[1;33m]\u001b[0m \u001b[1;33m-=\u001b[0m \u001b[0mlearning_rate\u001b[0m \u001b[1;33m*\u001b[0m \u001b[0mdLdv\u001b[0m \u001b[1;33m/\u001b[0m \u001b[0mlen\u001b[0m\u001b[1;33m(\u001b[0m\u001b[0msentences\u001b[0m\u001b[1;33m)\u001b[0m\u001b[1;33m\u001b[0m\u001b[1;33m\u001b[0m\u001b[0m\n\u001b[1;32m---> 59\u001b[1;33m             \u001b[0mself\u001b[0m\u001b[1;33m.\u001b[0m\u001b[0mcontext_vectors\u001b[0m \u001b[1;33m-=\u001b[0m \u001b[0mlearning_rate\u001b[0m \u001b[1;33m*\u001b[0m \u001b[0mdLdu\u001b[0m  \u001b[1;33m/\u001b[0m \u001b[0mlen\u001b[0m\u001b[1;33m(\u001b[0m\u001b[0msentences\u001b[0m\u001b[1;33m)\u001b[0m\u001b[1;33m\u001b[0m\u001b[1;33m\u001b[0m\u001b[0m\n\u001b[0m\u001b[0;32m     60\u001b[0m             \u001b[0mself\u001b[0m\u001b[1;33m.\u001b[0m\u001b[0mcontext_vectors\u001b[0m\u001b[1;33m[\u001b[0m\u001b[0mcontext_id\u001b[0m\u001b[1;33m]\u001b[0m \u001b[1;33m+=\u001b[0m \u001b[0mprev_center\u001b[0m\u001b[1;33m\u001b[0m\u001b[1;33m\u001b[0m\u001b[0m\n\u001b[0;32m     61\u001b[0m \u001b[1;33m\u001b[0m\u001b[0m\n",
      "\u001b[1;31mKeyboardInterrupt\u001b[0m: "
     ]
    }
   ],
   "source": [
    "wv.train(vocab, sentences, iters=350000, print_every=4000)"
   ]
  },
  {
   "cell_type": "code",
   "execution_count": 67,
   "metadata": {},
   "outputs": [
    {
     "data": {
      "text/plain": [
       "[('ax', 902.8268596428297),\n",
       " ('max', 69.31361042840933),\n",
       " ('a', 9.466874296708912),\n",
       " ('q', 6.486250142809),\n",
       " ('qqf', 4.568611394063934),\n",
       " ('l', 4.3031982365743575),\n",
       " ('u', 2.842029344617142),\n",
       " ('djax', 2.7611727687806846),\n",
       " ('um', 2.6184227591147025),\n",
       " ('c', 2.327157297184751)]"
      ]
     },
     "execution_count": 67,
     "metadata": {},
     "output_type": "execute_result"
    }
   ],
   "source": [
    "wv.most_closest('man')"
   ]
  },
  {
   "cell_type": "code",
   "execution_count": null,
   "metadata": {},
   "outputs": [],
   "source": []
  }
 ],
 "metadata": {
  "kernelspec": {
   "display_name": "Python 3",
   "language": "python",
   "name": "python3"
  },
  "language_info": {
   "codemirror_mode": {
    "name": "ipython",
    "version": 3
   },
   "file_extension": ".py",
   "mimetype": "text/x-python",
   "name": "python",
   "nbconvert_exporter": "python",
   "pygments_lexer": "ipython3",
   "version": "3.7.3"
  }
 },
 "nbformat": 4,
 "nbformat_minor": 2
}
