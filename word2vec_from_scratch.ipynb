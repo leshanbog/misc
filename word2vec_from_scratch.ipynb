{
 "cells": [
  {
   "cell_type": "code",
   "execution_count": 237,
   "metadata": {},
   "outputs": [],
   "source": [
    "import numpy as np\n",
    "import pandas as pd\n",
    "import re\n",
    "from sklearn.datasets import fetch_20newsgroups\n",
    "import nltk\n",
    "from sklearn.manifold import TSNE\n",
    "from sklearn.decomposition import PCA\n",
    "import matplotlib.pyplot as plt"
   ]
  },
  {
   "cell_type": "code",
   "execution_count": 238,
   "metadata": {},
   "outputs": [],
   "source": [
    "sentences = fetch_20newsgroups(subset='all', remove=('headers', 'footers', 'quotes')).data\n",
    "\n",
    "regex = re.compile('[^a-zA-Zа-яА-Я ]')\n",
    "sentences = [regex.sub('', ' '.join(nltk.word_tokenize(sent.strip().lower()))).split() \n",
    "             for sent in sentences] # list of list of words\n",
    "\n",
    "sentences = [sent for sent in sentences if len(sent) > 10]\n",
    "\n",
    "np.random.shuffle(sentences)"
   ]
  },
  {
   "cell_type": "code",
   "execution_count": 239,
   "metadata": {},
   "outputs": [],
   "source": [
    "class Vocab:\n",
    "    def __init__(self):\n",
    "        self.word2index = {}\n",
    "        self.index2word = {}\n",
    "    \n",
    "    def index(self, sentences):\n",
    "        word2cnt = {}\n",
    "        for sent in sentences:\n",
    "            for word in sent:\n",
    "                if word not in self.word2index:\n",
    "                    self.word2index[word] = len(self.word2index)\n",
    "                    self.index2word[self.word2index[word]] = word\n",
    "                    word2cnt[word] = 0\n",
    "                \n",
    "                word2cnt[word] += 1\n",
    "                \n",
    "        self.distribution = np.array([word2cnt[self.index2word[i]] for i in range(len(word2cnt))])\n",
    "        self.distribution = self.distribution / self.distribution.sum()\n",
    "        self.distribution = self.distribution ** 0.75\n",
    "        self.distribution = self.distribution / self.distribution.sum()\n",
    "                    \n",
    "    def get_distribution(self):\n",
    "        return self.distribution\n",
    "                    \n",
    "    def get_size(self):\n",
    "        return len(self.word2index)"
   ]
  },
  {
   "cell_type": "code",
   "execution_count": 240,
   "metadata": {},
   "outputs": [
    {
     "data": {
      "text/plain": [
       "127314"
      ]
     },
     "execution_count": 240,
     "metadata": {},
     "output_type": "execute_result"
    }
   ],
   "source": [
    "vocab = Vocab()\n",
    "vocab.index(sentences)\n",
    "vocab.get_size()"
   ]
  },
  {
   "cell_type": "code",
   "execution_count": 241,
   "metadata": {},
   "outputs": [],
   "source": [
    "class Word2Vec:\n",
    "    def __init__(self):\n",
    "        self.sent_i = None\n",
    "        self.word_i = None\n",
    "        self.window_i = None\n",
    "\n",
    "    def __initialize(self, window_size, vocab, embed_size):\n",
    "        if self.window_i is None:\n",
    "            print('Initializing weights')\n",
    "\n",
    "            self.vocab = vocab\n",
    "            self.center_vectors = np.random.uniform(-0.8, 0.8, (vocab.get_size(), embed_size))\n",
    "            self.context_vectors = np.random.uniform(-0.8, 0.8, (vocab.get_size(), embed_size))\n",
    "\n",
    "            self.sent_i = 0\n",
    "            self.window_i = -window_size\n",
    "            self.word_i = window_size\n",
    "\n",
    "    def __indexes_update(self, window_size, sent_size, corpus_size):\n",
    "        self.window_i += 1\n",
    "        if self.window_i == 0:\n",
    "            self.window_i = 1\n",
    "\n",
    "        if self.window_i == window_size + 1:\n",
    "            self.window_i = - window_size\n",
    "\n",
    "            self.word_i += 1\n",
    "            if self.word_i + window_size >= sent_size:\n",
    "                self.word_i = window_size\n",
    "                self.sent_i += 1\n",
    "                if self.sent_i == corpus_size:\n",
    "                    self.sent_i = 0\n",
    "\n",
    "    def train(self, vocab, sentences,\n",
    "              embed_size=100, window_size=3,\n",
    "              neg_sampling_size=15, learning_rate=0.01,\n",
    "              iters=10000, print_every=500):\n",
    "        self.__initialize(window_size, vocab, embed_size)\n",
    "\n",
    "        cur_loss = 0\n",
    "\n",
    "        i = 1\n",
    "        while i <= iters:\n",
    "            center_id = vocab.word2index[sentences[self.sent_i][self.word_i]]\n",
    "            context_id = vocab.word2index[sentences[self.sent_i][self.word_i + self.window_i]]\n",
    "\n",
    "            neg_samples_ids = np.random.choice(range(vocab.get_size()), neg_sampling_size, p=vocab.get_distribution())\n",
    "            neg_samples = self.context_vectors[neg_samples_ids]\n",
    "\n",
    "            cur_dot = np.inner(self.center_vectors[center_id], self.context_vectors[context_id])\n",
    "            dots = neg_samples.dot(self.center_vectors[center_id].reshape(-1, 1)).reshape(-1, 1)\n",
    "            sigmoids = 1 / (1 + np.exp(-dots))\n",
    "\n",
    "            # gradient calculation\n",
    "            dLdv = -self.context_vectors[context_id] * (1 - 1 / (1 + np.exp(-cur_dot))) + np.sum(neg_samples * sigmoids, axis=0)\n",
    "            dLdu = -self.center_vectors[center_id] * (1 - 1 / (1 + np.exp(-cur_dot)))\n",
    "            dLdw = neg_samples * sigmoids \n",
    "\n",
    "            # gradient step\n",
    "            assert self.context_vectors[neg_samples_ids].shape == dLdw.shape\n",
    "            assert self.center_vectors[center_id].shape == dLdv.shape\n",
    "            assert self.context_vectors[context_id].shape == dLdu.shape\n",
    "            self.center_vectors[center_id] -= learning_rate * dLdv\n",
    "            self.context_vectors[neg_samples_ids] -= learning_rate * dLdw\n",
    "            self.context_vectors[context_id] -= learning_rate * dLdu\n",
    "\n",
    "            self.__indexes_update(window_size, len(sentences[self.sent_i]), len(sentences))\n",
    "\n",
    "            loss = -np.log(1 + np.exp(-cur_dot)) - np.log(1 - sigmoids).sum()\n",
    "            cur_loss = cur_loss * 0.9 + loss * 0.1\n",
    "\n",
    "            if i % print_every == 0:\n",
    "                print(f'Iteration {i} loss = {round(cur_loss, 2)}')\n",
    "            i += 1\n",
    "\n",
    "    def get_vector(self, word):\n",
    "        return self.center_vectors[self.vocab.word2index[word]]\n",
    "\n",
    "    def most_closest(self, word, n=10):\n",
    "        base = self.get_vector(word).reshape(-1, 1)\n",
    "\n",
    "        distances = self.center_vectors.dot(base) / np.linalg.norm(self.center_vectors, axis=1).reshape(-1, 1) / np.linalg.norm(base)\n",
    "\n",
    "        most_closest_indexes = distances.flatten().argsort()[-n:][::-1]\n",
    "\n",
    "        return [(self.vocab.index2word[ind], distances.flatten()[ind]) for ind in most_closest_indexes]\n"
   ]
  },
  {
   "cell_type": "code",
   "execution_count": 258,
   "metadata": {
    "scrolled": true
   },
   "outputs": [
    {
     "name": "stdout",
     "output_type": "stream",
     "text": [
      "Initializing weights\n",
      "Iteration 50 loss = 12.85\n",
      "Iteration 100 loss = 13.33\n",
      "Iteration 150 loss = 12.92\n",
      "Iteration 200 loss = 11.46\n",
      "Iteration 250 loss = 12.91\n",
      "Iteration 300 loss = 13.85\n",
      "Iteration 350 loss = 14.89\n",
      "Iteration 400 loss = 11.21\n",
      "Iteration 450 loss = 11.63\n",
      "Iteration 500 loss = 14.5\n",
      "Iteration 550 loss = 14.29\n",
      "Iteration 600 loss = 13.92\n",
      "Iteration 650 loss = 14.06\n",
      "Iteration 700 loss = 13.34\n",
      "Iteration 750 loss = 13.62\n",
      "Iteration 800 loss = 14.08\n",
      "Iteration 850 loss = 13.44\n",
      "Iteration 900 loss = 14.29\n",
      "Iteration 950 loss = 13.08\n",
      "Iteration 1000 loss = 13.56\n"
     ]
    }
   ],
   "source": [
    "wv = Word2Vec()\n",
    "wv.train(vocab, sentences,\n",
    "         learning_rate=0.001,\n",
    "         iters=1000, \n",
    "         print_every=50, \n",
    "         window_size=3,\n",
    "         neg_sampling_size=13)"
   ]
  },
  {
   "cell_type": "code",
   "execution_count": 254,
   "metadata": {},
   "outputs": [
    {
     "data": {
      "text/plain": [
       "[('man', 1.0),\n",
       " ('nejmeditorial', 0.4264344807338889),\n",
       " ('airlajzng', 0.42028183883569553),\n",
       " ('towwang', 0.4048745382196957),\n",
       " ('bebek', 0.3875368508252413),\n",
       " ('relabel', 0.38677090034981176),\n",
       " ('hypocricy', 0.3801125952617559),\n",
       " ('uninhabitable', 0.374343688735698),\n",
       " ('sherwood', 0.36954786089546726),\n",
       " ('arterial', 0.36742246638254755)]"
      ]
     },
     "execution_count": 254,
     "metadata": {},
     "output_type": "execute_result"
    }
   ],
   "source": [
    "wv.most_closest('man')"
   ]
  },
  {
   "cell_type": "code",
   "execution_count": 255,
   "metadata": {},
   "outputs": [
    {
     "data": {
      "text/plain": [
       "[('good', 1.0000000000000002),\n",
       " ('stripmine', 0.42004370516793943),\n",
       " ('tzrgmrlkv', 0.4049654637602054),\n",
       " ('siebenlist', 0.3855192005132425),\n",
       " ('broadcasts', 0.3852777744039119),\n",
       " ('sillyness', 0.3844474234029582),\n",
       " ('timothypillsbury', 0.38427271185077466),\n",
       " ('acessing', 0.37883139339747945),\n",
       " ('prohphet', 0.37838104507596776),\n",
       " ('starsgsfcnasagov', 0.3748146025485971)]"
      ]
     },
     "execution_count": 255,
     "metadata": {},
     "output_type": "execute_result"
    }
   ],
   "source": [
    "wv.most_closest('good')"
   ]
  },
  {
   "cell_type": "code",
   "execution_count": null,
   "metadata": {},
   "outputs": [],
   "source": []
  }
 ],
 "metadata": {
  "kernelspec": {
   "display_name": "Python 3",
   "language": "python",
   "name": "python3"
  },
  "language_info": {
   "codemirror_mode": {
    "name": "ipython",
    "version": 3
   },
   "file_extension": ".py",
   "mimetype": "text/x-python",
   "name": "python",
   "nbconvert_exporter": "python",
   "pygments_lexer": "ipython3",
   "version": "3.7.5"
  }
 },
 "nbformat": 4,
 "nbformat_minor": 2
}
