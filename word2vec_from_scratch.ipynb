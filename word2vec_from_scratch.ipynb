{
 "cells": [
  {
   "cell_type": "code",
   "execution_count": 1,
   "metadata": {},
   "outputs": [],
   "source": [
    "import numpy as np\n",
    "import pandas as pd\n",
    "import re\n",
    "from sklearn.datasets import fetch_20newsgroups\n",
    "import nltk"
   ]
  },
  {
   "cell_type": "code",
   "execution_count": 2,
   "metadata": {},
   "outputs": [],
   "source": [
    "sentences = fetch_20newsgroups(subset='all', remove=('headers', 'footers', 'quotes')).data\n",
    "\n",
    "regex = re.compile('[^a-zA-Zа-яА-Я ]')\n",
    "sentences = [regex.sub('', ' '.join(nltk.word_tokenize(sent.strip().lower()))).split() \n",
    "             for sent in sentences] # list of list of words\n",
    "\n",
    "sentences = [sent for sent in sentences if len(sent) > 10]\n",
    "\n",
    "np.random.shuffle(sentences)"
   ]
  },
  {
   "cell_type": "code",
   "execution_count": 3,
   "metadata": {},
   "outputs": [],
   "source": [
    "class Vocab:\n",
    "    def __init__(self):\n",
    "        self.word2index = {}\n",
    "        self.index2word = {}\n",
    "    \n",
    "    def index(self, sentences):\n",
    "        word2cnt = {}\n",
    "        for sent in sentences:\n",
    "            for word in sent:\n",
    "                if word not in self.word2index:\n",
    "                    self.word2index[word] = len(self.word2index)\n",
    "                    self.index2word[self.word2index[word]] = word\n",
    "                    word2cnt[word] = 0\n",
    "                \n",
    "                word2cnt[word] += 1\n",
    "                \n",
    "        self.distribution = np.array([word2cnt[self.index2word[i]] for i in range(len(word2cnt))])\n",
    "        self.distribution = self.distribution / self.distribution.sum()\n",
    "        self.distribution = self.distribution ** 0.75\n",
    "        self.distribution = self.distribution / self.distribution.sum()\n",
    "                    \n",
    "    def get_distribution(self):\n",
    "        return self.distribution\n",
    "                    \n",
    "    def get_size(self):\n",
    "        return len(self.word2index)"
   ]
  },
  {
   "cell_type": "code",
   "execution_count": 4,
   "metadata": {},
   "outputs": [
    {
     "data": {
      "text/plain": [
       "127314"
      ]
     },
     "execution_count": 4,
     "metadata": {},
     "output_type": "execute_result"
    }
   ],
   "source": [
    "vocab = Vocab()\n",
    "vocab.index(sentences)\n",
    "vocab.get_size()"
   ]
  },
  {
   "cell_type": "code",
   "execution_count": 6,
   "metadata": {},
   "outputs": [],
   "source": [
    "class Word2Vec:\n",
    "    def __init__(self):\n",
    "        self.sent_i = None\n",
    "        self.word_i = None\n",
    "        self.window_i = None\n",
    "\n",
    "    def __initialize(self, window_size, vocab, embed_size):\n",
    "        if self.window_i is None:\n",
    "            print('Initializing weights')\n",
    "\n",
    "            self.vocab = vocab\n",
    "            self.center_vectors = np.random.uniform(-0.8, 0.8, (vocab.get_size(), embed_size))\n",
    "            self.context_vectors = np.random.uniform(-0.8, 0.8, (vocab.get_size(), embed_size))\n",
    "\n",
    "            self.sent_i = 0\n",
    "            self.window_i = -window_size\n",
    "            self.word_i = window_size\n",
    "\n",
    "    def __indexes_update(self, window_size, sent_size, corpus_size):\n",
    "        self.window_i += 1\n",
    "        if self.window_i == 0:\n",
    "            self.window_i = 1\n",
    "\n",
    "        if self.window_i == window_size + 1:\n",
    "            self.window_i = - window_size\n",
    "\n",
    "            self.word_i += 1\n",
    "            if self.word_i + window_size >= sent_size:\n",
    "                self.word_i = window_size\n",
    "                self.sent_i += 1\n",
    "                if self.sent_i == corpus_size:\n",
    "                    self.sent_i = 0\n",
    "\n",
    "    def train(self, vocab, sentences,\n",
    "              embed_size=100, window_size=3,\n",
    "              neg_sampling_size=15, learning_rate=0.01,\n",
    "              iters=10000, print_every=500):\n",
    "        self.__initialize(window_size, vocab, embed_size)\n",
    "\n",
    "        cur_loss = 0\n",
    "\n",
    "        i = 1\n",
    "        while i <= iters:\n",
    "            center_id = vocab.word2index[sentences[self.sent_i][self.word_i]]\n",
    "            context_id = vocab.word2index[sentences[self.sent_i][self.word_i + self.window_i]]\n",
    "\n",
    "            neg_samples_ids = np.random.choice(range(vocab.get_size()), neg_sampling_size, p=vocab.get_distribution())\n",
    "            neg_samples = self.context_vectors[neg_samples_ids]\n",
    "\n",
    "            cur_dot = np.inner(self.center_vectors[center_id], self.context_vectors[context_id])\n",
    "            dots = neg_samples.dot(self.center_vectors[center_id].reshape(-1, 1)).reshape(-1, 1)\n",
    "            sigmoids = 1 / (1 + np.exp(dots))\n",
    "\n",
    "            # gradient calculation\n",
    "            dLdv = -self.context_vectors[context_id] * (1 - 1 / (1 + np.exp(cur_dot))) + np.sum(neg_samples * sigmoids, axis=0)\n",
    "            dLdu = -self.center_vectors[center_id] * (1 - 1 / (1 + np.exp(cur_dot)))\n",
    "            dLdw = self.center_vectors[center_id] * sigmoids \n",
    "\n",
    "            # gradient step\n",
    "            self.center_vectors[center_id] -= learning_rate * dLdv / neg_sampling_size\n",
    "            self.context_vectors[neg_samples_ids] -= learning_rate * dLdw\n",
    "            self.context_vectors[context_id] -= learning_rate * dLdu\n",
    "\n",
    "            self.__indexes_update(window_size, len(sentences[self.sent_i]), len(sentences))\n",
    "\n",
    "            loss = np.log(1 + np.exp(-cur_dot)) - np.log(1 - sigmoids).sum()\n",
    "            cur_loss = cur_loss * 0.95 + loss * 0.05\n",
    "\n",
    "            if i % print_every == 0:\n",
    "                print(f'Iteration {i} loss = {round(cur_loss, 2)}')\n",
    "                print(round(self.center_vectors.sum(), 1), round(self.context_vectors.sum(), 1))\n",
    "            i += 1\n",
    "\n",
    "    def get_vector(self, word):\n",
    "        return self.center_vectors[self.vocab.word2index[word]]\n",
    "\n",
    "    def most_closest(self, word, n=10):\n",
    "        base = self.get_vector(word).reshape(-1, 1)\n",
    "\n",
    "        distances = self.center_vectors.dot(base) / np.linalg.norm(self.center_vectors, axis=1) / np.linalg.norm(base)\n",
    "\n",
    "        most_closest_indexes = distances.flatten().argsort()[-n:][::-1]\n",
    "\n",
    "        return [(self.vocab.index2word[ind], distances.flatten()[ind]) for ind in most_closest_indexes]\n"
   ]
  },
  {
   "cell_type": "code",
   "execution_count": 7,
   "metadata": {
    "scrolled": true
   },
   "outputs": [
    {
     "name": "stdout",
     "output_type": "stream",
     "text": [
      "Initializing weights\n",
      "Iteration 3 loss = 2.31\n",
      "-3384.2 -756.6\n",
      "Iteration 6 loss = 3.99\n",
      "-3384.2 -757.4\n",
      "Iteration 9 loss = 5.27\n",
      "-3384.2 -756.4\n",
      "Iteration 12 loss = 6.9\n",
      "-3384.2 -755.4\n",
      "Iteration 15 loss = 7.97\n",
      "-3384.2 -755.8\n",
      "Iteration 18 loss = 9.79\n",
      "-3384.2 -756.4\n",
      "Iteration 21 loss = 10.94\n",
      "-3384.2 -757.2\n",
      "Iteration 24 loss = 11.46\n",
      "-3384.1 -757.8\n"
     ]
    }
   ],
   "source": [
    "wv = Word2Vec()\n",
    "wv.train(vocab, sentences, learning_rate=0.01, iters=25, print_every=3)"
   ]
  },
  {
   "cell_type": "code",
   "execution_count": null,
   "metadata": {},
   "outputs": [],
   "source": []
  }
 ],
 "metadata": {
  "kernelspec": {
   "display_name": "Python 3",
   "language": "python",
   "name": "python3"
  },
  "language_info": {
   "codemirror_mode": {
    "name": "ipython",
    "version": 3
   },
   "file_extension": ".py",
   "mimetype": "text/x-python",
   "name": "python",
   "nbconvert_exporter": "python",
   "pygments_lexer": "ipython3",
   "version": "3.7.3"
  }
 },
 "nbformat": 4,
 "nbformat_minor": 2
}
